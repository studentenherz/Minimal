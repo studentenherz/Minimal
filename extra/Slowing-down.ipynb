{
 "cells": [
  {
   "cell_type": "code",
   "execution_count": 2,
   "metadata": {},
   "outputs": [],
   "source": [
    "import numpy as np\n",
    "from matplotlib import pyplot as plt"
   ]
  },
  {
   "cell_type": "code",
   "execution_count": 55,
   "metadata": {},
   "outputs": [],
   "source": [
    "dir = \"/home/michel/Documents/Minimal/build/collisions/cart\"\n",
    "\n",
    "# t x y z vx vy vz\n",
    "data = np.loadtxt(f'{dir}/{4}.dat')\n",
    "x = data[:,2]\n",
    "y = data[:,3]\n",
    "z = data[:,4]"
   ]
  },
  {
   "cell_type": "code",
   "execution_count": 56,
   "metadata": {},
   "outputs": [],
   "source": [
    "fig = plt.figure()\n",
    "\n",
    "ax = fig.add_subplot(111, projection='3d')\n",
    "ax.plot(x, y, z)\n",
    "\n",
    "ax.set_xlabel('X')\n",
    "ax.set_ylabel('Y')\n",
    "ax.set_zlabel('Z')\n",
    "\n",
    "plt.show()"
   ]
  },
  {
   "cell_type": "code",
   "execution_count": 63,
   "metadata": {},
   "outputs": [],
   "source": [
    "dir = '/home/michel/Documents/Minimal/build/collisions'\n",
    "\n",
    "%matplotlib qt\n",
    "\n",
    "fig = plt.figure()\n",
    "ax = fig.add_subplot(111, projection='3d')\n",
    "\n",
    "for i in range(1, 50):\n",
    "\tdata = np.loadtxt(f'{dir}/{i}.dat')\n",
    "\tr = data[:,1]\n",
    "\tq = data[:,2]\n",
    "\tz = data[:,3]\n",
    "\n",
    "\t# print(i, np.max(z))\n",
    "\n",
    "\tif i != 30:\n",
    "\t\tax.plot(r * np.cos(q), r * np.sin(q) , z)\t\t\n",
    "\n",
    "ax.set_xlabel('X')\n",
    "ax.set_ylabel('Y')\n",
    "ax.set_zlabel('Z')\n",
    "\n",
    "plt.show()\t"
   ]
  },
  {
   "cell_type": "markdown",
   "metadata": {},
   "source": [
    "This one form above doesn't make sense for the tf = 1200, dt=0.00001, nskip=200, obs_skip=20000 because in only 1.2 the ion slows down to ~zero, and that is, in this case  data points"
   ]
  },
  {
   "cell_type": "code",
   "execution_count": 15,
   "metadata": {},
   "outputs": [],
   "source": [
    "dir = \"/home/michel/Documents/Minimal/build/collisions/cart\"\n",
    "\n",
    "%matplotlib qt\n",
    "\n",
    "fig = plt.figure()\n",
    "ax = fig.add_subplot(111, projection='3d')\n",
    "\n",
    "x = np.array([])\n",
    "y = np.array([])\n",
    "z = np.array([])\n",
    "\n",
    "\n",
    "for i in range(1, 100):\t\n",
    "\tdata = np.loadtxt(f'{dir}/{i}.dat')\n",
    "\t\n",
    "\tx = np.append(x, data[-1, 4])\n",
    "\ty = np.append(y, data[-1, 5])\n",
    "\tz = np.append(z, data[-1, 6])\n",
    "\t# z = data[:,3]\n",
    "\n",
    "ax.scatter(x, y, z)\t\t\n",
    "\n",
    "ax.set_xlabel('X')\n",
    "ax.set_ylabel('Y')\n",
    "ax.set_zlabel('Z')\n",
    "\n",
    "ax.set_aspect('auto', adjustable='box')\n",
    "\n",
    "plt.show()\t"
   ]
  },
  {
   "cell_type": "markdown",
   "metadata": {},
   "source": [
    "Now a simulation with just dispersion"
   ]
  },
  {
   "cell_type": "code",
   "execution_count": 62,
   "metadata": {},
   "outputs": [
    {
     "name": "stdout",
     "output_type": "stream",
     "text": [
      "<v^2> = 0.0015425906584521148 standar deviation 0.0013796561761603135\n",
      "means:\n",
      "vx = -0.0003899982846019612\n",
      "vy = -0.0021588598880502765\n",
      "vz = -0.0011946550927835053\n"
     ]
    }
   ],
   "source": [
    "%matplotlib qt\n",
    "\n",
    "dir = '/home/michel/Documents/Minimal/build/dispersion'\n",
    "\n",
    "\n",
    "fig = plt.figure()\n",
    "ax = fig.add_subplot(111, projection='3d')\n",
    "\n",
    "vr = np.array([])\n",
    "vq = np.array([])\n",
    "vz = np.array([])\n",
    "q = np.array([])\n",
    "\n",
    "\n",
    "for i in range(1, 99):\n",
    "\tif i == 30: continue\n",
    "\t\n",
    "\tdata = np.loadtxt(f'{dir}/{i}.dat')\n",
    "\tvr = np.append(vr, data[-1, 4])\n",
    "\tvq = np.append(vq, data[-1, 5])\n",
    "\tvz = np.append(vz, data[-1, 6])\n",
    "\tq = np.append(q, data[-1, 2])\n",
    "\t# z = data[:,3]\n",
    "\n",
    "vx = vr * np.cos(q) - vq * np.sin(q)\n",
    "vy = vr * np.sin(q) + vq * np.cos(q)\n",
    "\n",
    "# ax.scatter(vx, vy)\t\t\n",
    "# ax.scatter(vx, vz)\n",
    "# ax.scatter(vy, vz)\n",
    "\n",
    "v2 = np.square(vx) + np.square(vy) + np.square(vz)\n",
    "print(f'<v^2> = {np.mean(v2)} standar deviation {np.std(v2)}')\n",
    "\n",
    "print(f'means:\\nvx = {np.mean(vx)}\\nvy = {np.mean(vy)}\\nvz = {np.mean(vz)}')\n",
    "\n",
    "ax.scatter(vx, vy, vz)\t\t\n",
    "\n",
    "ax.set_xlabel('X')\n",
    "ax.set_ylabel('Y')\n",
    "ax.set_zlabel('Z')\n",
    "\n",
    "# ax.set_aspect('equal', adjustable='box')\n",
    "\n",
    "plt.show()"
   ]
  },
  {
   "cell_type": "code",
   "execution_count": 58,
   "metadata": {},
   "outputs": [],
   "source": [
    "# prepare to continue simulations\n",
    "\n",
    "dir = '/home/michel/Documents/Minimal/build/dispersion_only'\n",
    "\n",
    "with open(f'{dir}/initial_conditions.dat', 'w') as file:\n",
    "\tfor i in range(1, 100):\n",
    "\t\tdata = np.loadtxt(f'{dir}/{i}.dat')[-1]\n",
    "\t\tline = \"\"\n",
    "\t\tfor x in data:\n",
    "\t\t\tline += str(x) + ' '\n",
    "\t\tfile.write(line + '\\n')\n"
   ]
  },
  {
   "cell_type": "markdown",
   "metadata": {},
   "source": [
    "### Dispersion difusion coefficient"
   ]
  },
  {
   "cell_type": "code",
   "execution_count": 66,
   "metadata": {},
   "outputs": [],
   "source": [
    "dir = '/home/michel/Documents/Minimal/build/dispersion_only'\n",
    "\n",
    "data = np.loadtxt(f'{dir}/1_car.dat')\n",
    "vx = data[:,4]\n",
    "vy = data[:,5]\n",
    "vz = data[:,6]"
   ]
  },
  {
   "cell_type": "code",
   "execution_count": 67,
   "metadata": {},
   "outputs": [],
   "source": [
    "fig = plt.figure()\n",
    "ax = fig.add_subplot(111, projection='3d')\n",
    "\n",
    "ax.plot(vx, vy, vx)\n",
    "\n",
    "plt.show()"
   ]
  },
  {
   "cell_type": "code",
   "execution_count": 27,
   "metadata": {},
   "outputs": [],
   "source": [
    "vs = np.transpose(np.array([vx, vy, vz]))"
   ]
  },
  {
   "cell_type": "code",
   "execution_count": 37,
   "metadata": {},
   "outputs": [],
   "source": [
    "def mean_sqr_diff(vs):\n",
    "\tans = []\n",
    "\tst_dev = []\n",
    "\n",
    "\tfor n in range(len(vs)):\n",
    "\t\tsqr_diff = []\n",
    "\n",
    "\t\tfor i in range(len(vs) - n):\n",
    "\t\t\tdiff = vs[i + n] - vs[i]\n",
    "\t\t\tsqr_diff.append(np.dot(diff, diff))\n",
    "\t\t\n",
    "\t\tans.append(np.mean(sqr_diff))\n",
    "\t\tst_dev.append(np.std(sqr_diff))\n",
    "\t\n",
    "\treturn np.array(ans), np.array(st_dev)\n"
   ]
  },
  {
   "cell_type": "code",
   "execution_count": 47,
   "metadata": {},
   "outputs": [],
   "source": [
    "msd, msd_std = mean_sqr_diff(vs)"
   ]
  },
  {
   "cell_type": "code",
   "execution_count": 71,
   "metadata": {},
   "outputs": [],
   "source": [
    "plt.rcParams.update({\n",
    "    \"text.usetex\": True,\n",
    "    \"font.family\": \"serif\",\n",
    "    \"font.sans-serif\": [\"Computer Modern Sans Serif\"]})"
   ]
  },
  {
   "cell_type": "code",
   "execution_count": 81,
   "metadata": {},
   "outputs": [],
   "source": [
    "fig = plt.figure()\n",
    "ax = fig.add_subplot(111)\n",
    "\n",
    "dt = 0.0186\n",
    "t = np.arange(0, len(msd)) * dt\n",
    "\n",
    "ax.plot(t, msd)\n",
    "ax.grid()\n",
    "\n",
    "ax.set_xlabel('$\\Delta t\\ [s]$', fontsize=16)\n",
    "ax.set_ylabel('$\\langle \\Delta \\\\vec{v} \\Delta \\\\vec{v} \\\\rangle \\ [v_0^2]$', fontsize=16)\n",
    "\n",
    "plt.show()"
   ]
  },
  {
   "cell_type": "code",
   "execution_count": 92,
   "metadata": {},
   "outputs": [],
   "source": [
    "vmods = [np.dot(x, x) for x in vs]"
   ]
  },
  {
   "cell_type": "code",
   "execution_count": 94,
   "metadata": {},
   "outputs": [
    {
     "data": {
      "text/plain": [
       "5.458416255674037"
      ]
     },
     "execution_count": 94,
     "metadata": {},
     "output_type": "execute_result"
    }
   ],
   "source": [
    "np.mean(vmods)"
   ]
  },
  {
   "cell_type": "markdown",
   "metadata": {},
   "source": [
    "### Perpendicular and parallel separatelly\n",
    "\n",
    "In order to separate parallel and perpendicular the average of vector in the range of the difference will be taken as the effective velocity direction "
   ]
  },
  {
   "cell_type": "code",
   "execution_count": 152,
   "metadata": {},
   "outputs": [],
   "source": [
    "def mean_sqr_diff_perp_and_par(vs):\n",
    "\tsqr_diff_par = [[] for i in range(len(vs))]\n",
    "\tsqr_diff_perp = [[] for i in range(len(vs))]\n",
    "\n",
    "\tfor start in range(len(vs)):\n",
    "\n",
    "\t\tv_sum = vs[start]\n",
    "\n",
    "\t\tfor stop in range(start, len(vs)):\n",
    "\n",
    "\t\t\tv_sum += vs[stop]\n",
    "\n",
    "\t\t\te_mean = v_sum / np.sqrt(np.dot(v_sum, v_sum))\n",
    "\n",
    "\t\t\tdiff = vs[stop] - vs[start]\n",
    "\t\t\tdiff_par = np.dot(diff, e_mean) # scalar\n",
    "\t\t\tdiff_perp = np.cross(diff, e_mean) # vector\n",
    "\n",
    "\t\t\tsqr_diff_par[stop - start].append(diff_par ** 2)\n",
    "\t\t\tsqr_diff_perp[stop - start].append(np.dot(diff_perp, diff_perp))\n",
    "\n",
    "\tdiff_par = np.array(sqr_diff_par, dtype='object')\n",
    "\tdiff_perp = np.array(sqr_diff_perp, dtype='object')\n",
    "\n",
    "\tmean = np.vectorize(np.mean)\n",
    "\tstd = np.vectorize(np.std)\n",
    "\n",
    "\treturn mean(diff_par), mean(diff_perp), std(diff_par), std(diff_perp)"
   ]
  },
  {
   "cell_type": "markdown",
   "metadata": {},
   "source": [
    "# Dont use this ^^^^\n",
    "\n",
    "too slow, made a compiled C++ version"
   ]
  },
  {
   "cell_type": "code",
   "execution_count": 160,
   "metadata": {},
   "outputs": [],
   "source": [
    "msd_par, msd_perp, std_par, st_perp = mean_sqr_diff_perp_and_par(vs)"
   ]
  },
  {
   "cell_type": "code",
   "execution_count": 161,
   "metadata": {},
   "outputs": [],
   "source": [
    "np.savetxt('msd_par.dat', msd_par)\n",
    "np.savetxt('msd_perp.dat', msd_perp)\n",
    "np.savetxt('std_par.dat', std_par)\n",
    "np.savetxt('std_perp.dat', st_perp)"
   ]
  },
  {
   "cell_type": "code",
   "execution_count": 163,
   "metadata": {},
   "outputs": [],
   "source": [
    "fig = plt.figure()\n",
    "ax = fig.add_subplot(111)\n",
    "\n",
    "dt = 0.0186\n",
    "t = np.arange(0, len(msd_perp)) * dt\n",
    "\n",
    "ax.plot(t, msd_perp, label='perpendicular')\n",
    "# ax.plot(t, msd_par, label='parallel')\n",
    "ax.grid()\n",
    "\n",
    "ax.set_xlabel('$\\Delta t\\ [s]$', fontsize=16)\n",
    "ax.set_ylabel('$\\langle \\Delta \\\\vec{v} \\Delta \\\\vec{v} \\\\rangle \\ [v_0^2]$', fontsize=16)\n",
    "\n",
    "plt.legend()\n",
    "\n",
    "plt.show()"
   ]
  },
  {
   "cell_type": "code",
   "execution_count": 154,
   "metadata": {},
   "outputs": [
    {
     "data": {
      "text/plain": [
       "array([0.00000000e+00, 2.65961402e+19, 4.29275380e+19, 5.38841574e+19,\n",
       "       6.37433483e+19, 7.71094556e+19, 9.68005459e+19, 1.29304835e+20,\n",
       "       1.92006354e+20, 3.34586326e+20])"
      ]
     },
     "execution_count": 154,
     "metadata": {},
     "output_type": "execute_result"
    }
   ],
   "source": [
    "msd_par"
   ]
  }
 ],
 "metadata": {
  "interpreter": {
   "hash": "e7370f93d1d0cde622a1f8e1c04877d8463912d04d973331ad4851f04de6915a"
  },
  "kernelspec": {
   "display_name": "Python 3.8.10 64-bit",
   "language": "python",
   "name": "python3"
  },
  "language_info": {
   "codemirror_mode": {
    "name": "ipython",
    "version": 3
   },
   "file_extension": ".py",
   "mimetype": "text/x-python",
   "name": "python",
   "nbconvert_exporter": "python",
   "pygments_lexer": "ipython3",
   "version": "3.8.10"
  },
  "orig_nbformat": 4
 },
 "nbformat": 4,
 "nbformat_minor": 2
}
